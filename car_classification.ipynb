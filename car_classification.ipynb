{
  "nbformat": 4,
  "nbformat_minor": 0,
  "metadata": {
    "colab": {
      "provenance": [],
      "collapsed_sections": [
        "PwlyTL9D_Iwd"
      ],
      "authorship_tag": "ABX9TyO9hxApmeLeehcLaaURNo1y",
      "include_colab_link": true
    },
    "kernelspec": {
      "name": "python3",
      "display_name": "Python 3"
    },
    "language_info": {
      "name": "python"
    }
  },
  "cells": [
    {
      "cell_type": "markdown",
      "metadata": {
        "id": "view-in-github",
        "colab_type": "text"
      },
      "source": [
        "<a href=\"https://colab.research.google.com/github/sovunia-hub/machine-learning/blob/main/car_classification.ipynb\" target=\"_parent\"><img src=\"https://colab.research.google.com/assets/colab-badge.svg\" alt=\"Open In Colab\"/></a>"
      ]
    },
    {
      "cell_type": "code",
      "execution_count": null,
      "metadata": {
        "id": "yyMeiglw_tdM"
      },
      "outputs": [],
      "source": [
        "from sklearn.metrics import r2_score, confusion_matrix, classification_report\n",
        "from sklearn import tree\n",
        "from sklearn import ensemble\n",
        "from sklearn.model_selection import GridSearchCV, train_test_split\n",
        "from sklearn.tree import plot_tree\n",
        "import sklearn.datasets as datasets\n",
        "\n",
        "import numpy as np\n",
        "import pandas as pd\n",
        "import matplotlib.pyplot as plt\n",
        "\n",
        "from sklearn.linear_model import LogisticRegression\n",
        "from sklearn.neighbors import KNeighborsClassifier\n",
        "from sklearn.svm import SVC\n",
        "\n",
        "import warnings\n",
        "warnings.filterwarnings('ignore')"
      ]
    },
    {
      "cell_type": "code",
      "source": [
        "df = datasets.fetch_openml(name='car', version=\"3\")"
      ],
      "metadata": {
        "colab": {
          "base_uri": "https://localhost:8080/"
        },
        "id": "Ph3PtyMT7Q6B",
        "outputId": "9e645cd8-851b-46be-ecf5-e76288809375"
      },
      "execution_count": null,
      "outputs": [
        {
          "output_type": "stream",
          "name": "stderr",
          "text": [
            "/usr/local/lib/python3.10/dist-packages/sklearn/datasets/_openml.py:968: FutureWarning: The default value of `parser` will change from `'liac-arff'` to `'auto'` in 1.4. You can set `parser='auto'` to silence this warning. Therefore, an `ImportError` will be raised from 1.4 if the dataset is dense and pandas is not installed. Note that the pandas parser may return different data types. See the Notes Section in fetch_openml's API doc for details.\n",
            "  warn(\n"
          ]
        }
      ]
    },
    {
      "cell_type": "code",
      "source": [
        "data = df.get('data')\n",
        "data.head()"
      ],
      "metadata": {
        "colab": {
          "base_uri": "https://localhost:8080/",
          "height": 204
        },
        "id": "MrmpusoS7Yen",
        "outputId": "f857721b-13cc-4ade-a0ee-a295e0e6761f"
      },
      "execution_count": null,
      "outputs": [
        {
          "output_type": "execute_result",
          "data": {
            "text/plain": [
              "  buying  maint doors persons lug_boot safety\n",
              "0  vhigh  vhigh     2       2    small    low\n",
              "1  vhigh  vhigh     2       2    small    med\n",
              "2  vhigh  vhigh     2       2    small   high\n",
              "3  vhigh  vhigh     2       2      med    low\n",
              "4  vhigh  vhigh     2       2      med    med"
            ],
            "text/html": [
              "\n",
              "  <div id=\"df-3ae42136-cd9d-448f-90e4-9a1244218afe\" class=\"colab-df-container\">\n",
              "    <div>\n",
              "<style scoped>\n",
              "    .dataframe tbody tr th:only-of-type {\n",
              "        vertical-align: middle;\n",
              "    }\n",
              "\n",
              "    .dataframe tbody tr th {\n",
              "        vertical-align: top;\n",
              "    }\n",
              "\n",
              "    .dataframe thead th {\n",
              "        text-align: right;\n",
              "    }\n",
              "</style>\n",
              "<table border=\"1\" class=\"dataframe\">\n",
              "  <thead>\n",
              "    <tr style=\"text-align: right;\">\n",
              "      <th></th>\n",
              "      <th>buying</th>\n",
              "      <th>maint</th>\n",
              "      <th>doors</th>\n",
              "      <th>persons</th>\n",
              "      <th>lug_boot</th>\n",
              "      <th>safety</th>\n",
              "    </tr>\n",
              "  </thead>\n",
              "  <tbody>\n",
              "    <tr>\n",
              "      <th>0</th>\n",
              "      <td>vhigh</td>\n",
              "      <td>vhigh</td>\n",
              "      <td>2</td>\n",
              "      <td>2</td>\n",
              "      <td>small</td>\n",
              "      <td>low</td>\n",
              "    </tr>\n",
              "    <tr>\n",
              "      <th>1</th>\n",
              "      <td>vhigh</td>\n",
              "      <td>vhigh</td>\n",
              "      <td>2</td>\n",
              "      <td>2</td>\n",
              "      <td>small</td>\n",
              "      <td>med</td>\n",
              "    </tr>\n",
              "    <tr>\n",
              "      <th>2</th>\n",
              "      <td>vhigh</td>\n",
              "      <td>vhigh</td>\n",
              "      <td>2</td>\n",
              "      <td>2</td>\n",
              "      <td>small</td>\n",
              "      <td>high</td>\n",
              "    </tr>\n",
              "    <tr>\n",
              "      <th>3</th>\n",
              "      <td>vhigh</td>\n",
              "      <td>vhigh</td>\n",
              "      <td>2</td>\n",
              "      <td>2</td>\n",
              "      <td>med</td>\n",
              "      <td>low</td>\n",
              "    </tr>\n",
              "    <tr>\n",
              "      <th>4</th>\n",
              "      <td>vhigh</td>\n",
              "      <td>vhigh</td>\n",
              "      <td>2</td>\n",
              "      <td>2</td>\n",
              "      <td>med</td>\n",
              "      <td>med</td>\n",
              "    </tr>\n",
              "  </tbody>\n",
              "</table>\n",
              "</div>\n",
              "    <div class=\"colab-df-buttons\">\n",
              "\n",
              "  <div class=\"colab-df-container\">\n",
              "    <button class=\"colab-df-convert\" onclick=\"convertToInteractive('df-3ae42136-cd9d-448f-90e4-9a1244218afe')\"\n",
              "            title=\"Convert this dataframe to an interactive table.\"\n",
              "            style=\"display:none;\">\n",
              "\n",
              "  <svg xmlns=\"http://www.w3.org/2000/svg\" height=\"24px\" viewBox=\"0 -960 960 960\">\n",
              "    <path d=\"M120-120v-720h720v720H120Zm60-500h600v-160H180v160Zm220 220h160v-160H400v160Zm0 220h160v-160H400v160ZM180-400h160v-160H180v160Zm440 0h160v-160H620v160ZM180-180h160v-160H180v160Zm440 0h160v-160H620v160Z\"/>\n",
              "  </svg>\n",
              "    </button>\n",
              "\n",
              "  <style>\n",
              "    .colab-df-container {\n",
              "      display:flex;\n",
              "      gap: 12px;\n",
              "    }\n",
              "\n",
              "    .colab-df-convert {\n",
              "      background-color: #E8F0FE;\n",
              "      border: none;\n",
              "      border-radius: 50%;\n",
              "      cursor: pointer;\n",
              "      display: none;\n",
              "      fill: #1967D2;\n",
              "      height: 32px;\n",
              "      padding: 0 0 0 0;\n",
              "      width: 32px;\n",
              "    }\n",
              "\n",
              "    .colab-df-convert:hover {\n",
              "      background-color: #E2EBFA;\n",
              "      box-shadow: 0px 1px 2px rgba(60, 64, 67, 0.3), 0px 1px 3px 1px rgba(60, 64, 67, 0.15);\n",
              "      fill: #174EA6;\n",
              "    }\n",
              "\n",
              "    .colab-df-buttons div {\n",
              "      margin-bottom: 4px;\n",
              "    }\n",
              "\n",
              "    [theme=dark] .colab-df-convert {\n",
              "      background-color: #3B4455;\n",
              "      fill: #D2E3FC;\n",
              "    }\n",
              "\n",
              "    [theme=dark] .colab-df-convert:hover {\n",
              "      background-color: #434B5C;\n",
              "      box-shadow: 0px 1px 3px 1px rgba(0, 0, 0, 0.15);\n",
              "      filter: drop-shadow(0px 1px 2px rgba(0, 0, 0, 0.3));\n",
              "      fill: #FFFFFF;\n",
              "    }\n",
              "  </style>\n",
              "\n",
              "    <script>\n",
              "      const buttonEl =\n",
              "        document.querySelector('#df-3ae42136-cd9d-448f-90e4-9a1244218afe button.colab-df-convert');\n",
              "      buttonEl.style.display =\n",
              "        google.colab.kernel.accessAllowed ? 'block' : 'none';\n",
              "\n",
              "      async function convertToInteractive(key) {\n",
              "        const element = document.querySelector('#df-3ae42136-cd9d-448f-90e4-9a1244218afe');\n",
              "        const dataTable =\n",
              "          await google.colab.kernel.invokeFunction('convertToInteractive',\n",
              "                                                    [key], {});\n",
              "        if (!dataTable) return;\n",
              "\n",
              "        const docLinkHtml = 'Like what you see? Visit the ' +\n",
              "          '<a target=\"_blank\" href=https://colab.research.google.com/notebooks/data_table.ipynb>data table notebook</a>'\n",
              "          + ' to learn more about interactive tables.';\n",
              "        element.innerHTML = '';\n",
              "        dataTable['output_type'] = 'display_data';\n",
              "        await google.colab.output.renderOutput(dataTable, element);\n",
              "        const docLink = document.createElement('div');\n",
              "        docLink.innerHTML = docLinkHtml;\n",
              "        element.appendChild(docLink);\n",
              "      }\n",
              "    </script>\n",
              "  </div>\n",
              "\n",
              "\n",
              "<div id=\"df-96de1e06-9c71-499e-9827-bb9654b82697\">\n",
              "  <button class=\"colab-df-quickchart\" onclick=\"quickchart('df-96de1e06-9c71-499e-9827-bb9654b82697')\"\n",
              "            title=\"Suggest charts.\"\n",
              "            style=\"display:none;\">\n",
              "\n",
              "<svg xmlns=\"http://www.w3.org/2000/svg\" height=\"24px\"viewBox=\"0 0 24 24\"\n",
              "     width=\"24px\">\n",
              "    <g>\n",
              "        <path d=\"M19 3H5c-1.1 0-2 .9-2 2v14c0 1.1.9 2 2 2h14c1.1 0 2-.9 2-2V5c0-1.1-.9-2-2-2zM9 17H7v-7h2v7zm4 0h-2V7h2v10zm4 0h-2v-4h2v4z\"/>\n",
              "    </g>\n",
              "</svg>\n",
              "  </button>\n",
              "\n",
              "<style>\n",
              "  .colab-df-quickchart {\n",
              "      --bg-color: #E8F0FE;\n",
              "      --fill-color: #1967D2;\n",
              "      --hover-bg-color: #E2EBFA;\n",
              "      --hover-fill-color: #174EA6;\n",
              "      --disabled-fill-color: #AAA;\n",
              "      --disabled-bg-color: #DDD;\n",
              "  }\n",
              "\n",
              "  [theme=dark] .colab-df-quickchart {\n",
              "      --bg-color: #3B4455;\n",
              "      --fill-color: #D2E3FC;\n",
              "      --hover-bg-color: #434B5C;\n",
              "      --hover-fill-color: #FFFFFF;\n",
              "      --disabled-bg-color: #3B4455;\n",
              "      --disabled-fill-color: #666;\n",
              "  }\n",
              "\n",
              "  .colab-df-quickchart {\n",
              "    background-color: var(--bg-color);\n",
              "    border: none;\n",
              "    border-radius: 50%;\n",
              "    cursor: pointer;\n",
              "    display: none;\n",
              "    fill: var(--fill-color);\n",
              "    height: 32px;\n",
              "    padding: 0;\n",
              "    width: 32px;\n",
              "  }\n",
              "\n",
              "  .colab-df-quickchart:hover {\n",
              "    background-color: var(--hover-bg-color);\n",
              "    box-shadow: 0 1px 2px rgba(60, 64, 67, 0.3), 0 1px 3px 1px rgba(60, 64, 67, 0.15);\n",
              "    fill: var(--button-hover-fill-color);\n",
              "  }\n",
              "\n",
              "  .colab-df-quickchart-complete:disabled,\n",
              "  .colab-df-quickchart-complete:disabled:hover {\n",
              "    background-color: var(--disabled-bg-color);\n",
              "    fill: var(--disabled-fill-color);\n",
              "    box-shadow: none;\n",
              "  }\n",
              "\n",
              "  .colab-df-spinner {\n",
              "    border: 2px solid var(--fill-color);\n",
              "    border-color: transparent;\n",
              "    border-bottom-color: var(--fill-color);\n",
              "    animation:\n",
              "      spin 1s steps(1) infinite;\n",
              "  }\n",
              "\n",
              "  @keyframes spin {\n",
              "    0% {\n",
              "      border-color: transparent;\n",
              "      border-bottom-color: var(--fill-color);\n",
              "      border-left-color: var(--fill-color);\n",
              "    }\n",
              "    20% {\n",
              "      border-color: transparent;\n",
              "      border-left-color: var(--fill-color);\n",
              "      border-top-color: var(--fill-color);\n",
              "    }\n",
              "    30% {\n",
              "      border-color: transparent;\n",
              "      border-left-color: var(--fill-color);\n",
              "      border-top-color: var(--fill-color);\n",
              "      border-right-color: var(--fill-color);\n",
              "    }\n",
              "    40% {\n",
              "      border-color: transparent;\n",
              "      border-right-color: var(--fill-color);\n",
              "      border-top-color: var(--fill-color);\n",
              "    }\n",
              "    60% {\n",
              "      border-color: transparent;\n",
              "      border-right-color: var(--fill-color);\n",
              "    }\n",
              "    80% {\n",
              "      border-color: transparent;\n",
              "      border-right-color: var(--fill-color);\n",
              "      border-bottom-color: var(--fill-color);\n",
              "    }\n",
              "    90% {\n",
              "      border-color: transparent;\n",
              "      border-bottom-color: var(--fill-color);\n",
              "    }\n",
              "  }\n",
              "</style>\n",
              "\n",
              "  <script>\n",
              "    async function quickchart(key) {\n",
              "      const quickchartButtonEl =\n",
              "        document.querySelector('#' + key + ' button');\n",
              "      quickchartButtonEl.disabled = true;  // To prevent multiple clicks.\n",
              "      quickchartButtonEl.classList.add('colab-df-spinner');\n",
              "      try {\n",
              "        const charts = await google.colab.kernel.invokeFunction(\n",
              "            'suggestCharts', [key], {});\n",
              "      } catch (error) {\n",
              "        console.error('Error during call to suggestCharts:', error);\n",
              "      }\n",
              "      quickchartButtonEl.classList.remove('colab-df-spinner');\n",
              "      quickchartButtonEl.classList.add('colab-df-quickchart-complete');\n",
              "    }\n",
              "    (() => {\n",
              "      let quickchartButtonEl =\n",
              "        document.querySelector('#df-96de1e06-9c71-499e-9827-bb9654b82697 button');\n",
              "      quickchartButtonEl.style.display =\n",
              "        google.colab.kernel.accessAllowed ? 'block' : 'none';\n",
              "    })();\n",
              "  </script>\n",
              "</div>\n",
              "    </div>\n",
              "  </div>\n"
            ]
          },
          "metadata": {},
          "execution_count": 9
        }
      ]
    },
    {
      "cell_type": "code",
      "source": [
        "target = df.get('target')\n",
        "target.head()"
      ],
      "metadata": {
        "colab": {
          "base_uri": "https://localhost:8080/"
        },
        "id": "wdF7tvj47Zb0",
        "outputId": "a61235aa-7882-45a0-ddd4-2d162ffec877"
      },
      "execution_count": null,
      "outputs": [
        {
          "output_type": "execute_result",
          "data": {
            "text/plain": [
              "0    unacc\n",
              "1    unacc\n",
              "2    unacc\n",
              "3    unacc\n",
              "4    unacc\n",
              "Name: class, dtype: category\n",
              "Categories (4, object): ['acc', 'good', 'unacc', 'vgood']"
            ]
          },
          "metadata": {},
          "execution_count": 10
        }
      ]
    },
    {
      "cell_type": "code",
      "source": [
        "data_dummies = pd.get_dummies(data, prefix=data.columns)\n",
        "data_dummies = data_dummies[data_dummies.columns].astype('float')\n",
        "X_train, X_test, Y_train, Y_test = train_test_split(data_dummies, target)"
      ],
      "metadata": {
        "id": "iJh0kZBz8al2"
      },
      "execution_count": null,
      "outputs": []
    },
    {
      "cell_type": "markdown",
      "source": [
        "# Дерево"
      ],
      "metadata": {
        "id": "oNlwcMtWBoS5"
      }
    },
    {
      "cell_type": "code",
      "source": [
        "model_DTC = tree.DecisionTreeClassifier()\n",
        "model_DTC.fit(X_train, Y_train)"
      ],
      "metadata": {
        "colab": {
          "base_uri": "https://localhost:8080/",
          "height": 74
        },
        "id": "j6XI0-wpAfmA",
        "outputId": "826cd2dd-f0c4-4191-89fc-a24e1729d899"
      },
      "execution_count": null,
      "outputs": [
        {
          "output_type": "execute_result",
          "data": {
            "text/plain": [
              "DecisionTreeClassifier()"
            ],
            "text/html": [
              "<style>#sk-container-id-2 {color: black;background-color: white;}#sk-container-id-2 pre{padding: 0;}#sk-container-id-2 div.sk-toggleable {background-color: white;}#sk-container-id-2 label.sk-toggleable__label {cursor: pointer;display: block;width: 100%;margin-bottom: 0;padding: 0.3em;box-sizing: border-box;text-align: center;}#sk-container-id-2 label.sk-toggleable__label-arrow:before {content: \"▸\";float: left;margin-right: 0.25em;color: #696969;}#sk-container-id-2 label.sk-toggleable__label-arrow:hover:before {color: black;}#sk-container-id-2 div.sk-estimator:hover label.sk-toggleable__label-arrow:before {color: black;}#sk-container-id-2 div.sk-toggleable__content {max-height: 0;max-width: 0;overflow: hidden;text-align: left;background-color: #f0f8ff;}#sk-container-id-2 div.sk-toggleable__content pre {margin: 0.2em;color: black;border-radius: 0.25em;background-color: #f0f8ff;}#sk-container-id-2 input.sk-toggleable__control:checked~div.sk-toggleable__content {max-height: 200px;max-width: 100%;overflow: auto;}#sk-container-id-2 input.sk-toggleable__control:checked~label.sk-toggleable__label-arrow:before {content: \"▾\";}#sk-container-id-2 div.sk-estimator input.sk-toggleable__control:checked~label.sk-toggleable__label {background-color: #d4ebff;}#sk-container-id-2 div.sk-label input.sk-toggleable__control:checked~label.sk-toggleable__label {background-color: #d4ebff;}#sk-container-id-2 input.sk-hidden--visually {border: 0;clip: rect(1px 1px 1px 1px);clip: rect(1px, 1px, 1px, 1px);height: 1px;margin: -1px;overflow: hidden;padding: 0;position: absolute;width: 1px;}#sk-container-id-2 div.sk-estimator {font-family: monospace;background-color: #f0f8ff;border: 1px dotted black;border-radius: 0.25em;box-sizing: border-box;margin-bottom: 0.5em;}#sk-container-id-2 div.sk-estimator:hover {background-color: #d4ebff;}#sk-container-id-2 div.sk-parallel-item::after {content: \"\";width: 100%;border-bottom: 1px solid gray;flex-grow: 1;}#sk-container-id-2 div.sk-label:hover label.sk-toggleable__label {background-color: #d4ebff;}#sk-container-id-2 div.sk-serial::before {content: \"\";position: absolute;border-left: 1px solid gray;box-sizing: border-box;top: 0;bottom: 0;left: 50%;z-index: 0;}#sk-container-id-2 div.sk-serial {display: flex;flex-direction: column;align-items: center;background-color: white;padding-right: 0.2em;padding-left: 0.2em;position: relative;}#sk-container-id-2 div.sk-item {position: relative;z-index: 1;}#sk-container-id-2 div.sk-parallel {display: flex;align-items: stretch;justify-content: center;background-color: white;position: relative;}#sk-container-id-2 div.sk-item::before, #sk-container-id-2 div.sk-parallel-item::before {content: \"\";position: absolute;border-left: 1px solid gray;box-sizing: border-box;top: 0;bottom: 0;left: 50%;z-index: -1;}#sk-container-id-2 div.sk-parallel-item {display: flex;flex-direction: column;z-index: 1;position: relative;background-color: white;}#sk-container-id-2 div.sk-parallel-item:first-child::after {align-self: flex-end;width: 50%;}#sk-container-id-2 div.sk-parallel-item:last-child::after {align-self: flex-start;width: 50%;}#sk-container-id-2 div.sk-parallel-item:only-child::after {width: 0;}#sk-container-id-2 div.sk-dashed-wrapped {border: 1px dashed gray;margin: 0 0.4em 0.5em 0.4em;box-sizing: border-box;padding-bottom: 0.4em;background-color: white;}#sk-container-id-2 div.sk-label label {font-family: monospace;font-weight: bold;display: inline-block;line-height: 1.2em;}#sk-container-id-2 div.sk-label-container {text-align: center;}#sk-container-id-2 div.sk-container {/* jupyter's `normalize.less` sets `[hidden] { display: none; }` but bootstrap.min.css set `[hidden] { display: none !important; }` so we also need the `!important` here to be able to override the default hidden behavior on the sphinx rendered scikit-learn.org. See: https://github.com/scikit-learn/scikit-learn/issues/21755 */display: inline-block !important;position: relative;}#sk-container-id-2 div.sk-text-repr-fallback {display: none;}</style><div id=\"sk-container-id-2\" class=\"sk-top-container\"><div class=\"sk-text-repr-fallback\"><pre>DecisionTreeClassifier()</pre><b>In a Jupyter environment, please rerun this cell to show the HTML representation or trust the notebook. <br />On GitHub, the HTML representation is unable to render, please try loading this page with nbviewer.org.</b></div><div class=\"sk-container\" hidden><div class=\"sk-item\"><div class=\"sk-estimator sk-toggleable\"><input class=\"sk-toggleable__control sk-hidden--visually\" id=\"sk-estimator-id-2\" type=\"checkbox\" checked><label for=\"sk-estimator-id-2\" class=\"sk-toggleable__label sk-toggleable__label-arrow\">DecisionTreeClassifier</label><div class=\"sk-toggleable__content\"><pre>DecisionTreeClassifier()</pre></div></div></div></div></div>"
            ]
          },
          "metadata": {},
          "execution_count": 15
        }
      ]
    },
    {
      "cell_type": "code",
      "source": [
        "preds_DTC = model_DTC.predict(X_test)"
      ],
      "metadata": {
        "id": "DN5bx22nAjgQ"
      },
      "execution_count": null,
      "outputs": []
    },
    {
      "cell_type": "code",
      "source": [
        "print(confusion_matrix(Y_test, preds_DTC))"
      ],
      "metadata": {
        "colab": {
          "base_uri": "https://localhost:8080/"
        },
        "id": "zYlLfUi3Asf2",
        "outputId": "6fd0530d-75fb-427a-f3bd-c81c251c41f4"
      },
      "execution_count": null,
      "outputs": [
        {
          "output_type": "stream",
          "name": "stdout",
          "text": [
            "[[ 91   2   4   1]\n",
            " [  1  16   0   3]\n",
            " [  5   0 295   0]\n",
            " [  2   0   0  12]]\n"
          ]
        }
      ]
    },
    {
      "cell_type": "code",
      "source": [
        "print(classification_report(Y_test, preds_DTC))"
      ],
      "metadata": {
        "colab": {
          "base_uri": "https://localhost:8080/"
        },
        "id": "PfY14LEIAs_y",
        "outputId": "77d3ee43-ee1a-45ec-f1fe-758b53e1caf6"
      },
      "execution_count": null,
      "outputs": [
        {
          "output_type": "stream",
          "name": "stdout",
          "text": [
            "              precision    recall  f1-score   support\n",
            "\n",
            "         acc       0.92      0.93      0.92        98\n",
            "        good       0.89      0.80      0.84        20\n",
            "       unacc       0.99      0.98      0.98       300\n",
            "       vgood       0.75      0.86      0.80        14\n",
            "\n",
            "    accuracy                           0.96       432\n",
            "   macro avg       0.89      0.89      0.89       432\n",
            "weighted avg       0.96      0.96      0.96       432\n",
            "\n"
          ]
        }
      ]
    },
    {
      "cell_type": "code",
      "source": [
        "print(model_DTC.get_params())"
      ],
      "metadata": {
        "colab": {
          "base_uri": "https://localhost:8080/"
        },
        "id": "79mx6afoAzGI",
        "outputId": "8a586da6-c26c-409d-ec28-fec321e2dc1c"
      },
      "execution_count": null,
      "outputs": [
        {
          "output_type": "stream",
          "name": "stdout",
          "text": [
            "{'ccp_alpha': 0.0, 'class_weight': None, 'criterion': 'gini', 'max_depth': None, 'max_features': None, 'max_leaf_nodes': None, 'min_impurity_decrease': 0.0, 'min_samples_leaf': 1, 'min_samples_split': 2, 'min_weight_fraction_leaf': 0.0, 'random_state': None, 'splitter': 'best'}\n"
          ]
        }
      ]
    },
    {
      "cell_type": "code",
      "source": [
        "plot_tree(model_DTC)\n",
        "print(tree.export_text(model_DTC))"
      ],
      "metadata": {
        "colab": {
          "base_uri": "https://localhost:8080/",
          "height": 1000
        },
        "id": "5sZTXfQDA07L",
        "outputId": "78b208e9-15fa-4c89-b8a6-52ec158f11d5"
      },
      "execution_count": null,
      "outputs": [
        {
          "output_type": "stream",
          "name": "stdout",
          "text": [
            "|--- feature_12 <= 0.50\n",
            "|   |--- feature_19 <= 0.50\n",
            "|   |   |--- feature_7 <= 0.50\n",
            "|   |   |   |--- feature_1 <= 0.50\n",
            "|   |   |   |   |--- feature_17 <= 0.50\n",
            "|   |   |   |   |   |--- feature_2 <= 0.50\n",
            "|   |   |   |   |   |   |--- feature_4 <= 0.50\n",
            "|   |   |   |   |   |   |   |--- feature_8 <= 0.50\n",
            "|   |   |   |   |   |   |   |   |--- feature_9 <= 0.50\n",
            "|   |   |   |   |   |   |   |   |   |--- class: acc\n",
            "|   |   |   |   |   |   |   |   |--- feature_9 >  0.50\n",
            "|   |   |   |   |   |   |   |   |   |--- feature_13 <= 0.50\n",
            "|   |   |   |   |   |   |   |   |   |   |--- class: acc\n",
            "|   |   |   |   |   |   |   |   |   |--- feature_13 >  0.50\n",
            "|   |   |   |   |   |   |   |   |   |   |--- feature_18 <= 0.50\n",
            "|   |   |   |   |   |   |   |   |   |   |   |--- truncated branch of depth 2\n",
            "|   |   |   |   |   |   |   |   |   |   |--- feature_18 >  0.50\n",
            "|   |   |   |   |   |   |   |   |   |   |   |--- class: acc\n",
            "|   |   |   |   |   |   |   |--- feature_8 >  0.50\n",
            "|   |   |   |   |   |   |   |   |--- feature_18 <= 0.50\n",
            "|   |   |   |   |   |   |   |   |   |--- feature_15 <= 0.50\n",
            "|   |   |   |   |   |   |   |   |   |   |--- class: unacc\n",
            "|   |   |   |   |   |   |   |   |   |--- feature_15 >  0.50\n",
            "|   |   |   |   |   |   |   |   |   |   |--- class: acc\n",
            "|   |   |   |   |   |   |   |   |--- feature_18 >  0.50\n",
            "|   |   |   |   |   |   |   |   |   |--- class: acc\n",
            "|   |   |   |   |   |   |--- feature_4 >  0.50\n",
            "|   |   |   |   |   |   |   |--- feature_0 <= 0.50\n",
            "|   |   |   |   |   |   |   |   |--- class: unacc\n",
            "|   |   |   |   |   |   |   |--- feature_0 >  0.50\n",
            "|   |   |   |   |   |   |   |   |--- feature_18 <= 0.50\n",
            "|   |   |   |   |   |   |   |   |   |--- feature_8 <= 0.50\n",
            "|   |   |   |   |   |   |   |   |   |   |--- feature_9 <= 0.50\n",
            "|   |   |   |   |   |   |   |   |   |   |   |--- class: acc\n",
            "|   |   |   |   |   |   |   |   |   |   |--- feature_9 >  0.50\n",
            "|   |   |   |   |   |   |   |   |   |   |   |--- truncated branch of depth 3\n",
            "|   |   |   |   |   |   |   |   |   |--- feature_8 >  0.50\n",
            "|   |   |   |   |   |   |   |   |   |   |--- feature_15 <= 0.50\n",
            "|   |   |   |   |   |   |   |   |   |   |   |--- class: unacc\n",
            "|   |   |   |   |   |   |   |   |   |   |--- feature_15 >  0.50\n",
            "|   |   |   |   |   |   |   |   |   |   |   |--- class: acc\n",
            "|   |   |   |   |   |   |   |   |--- feature_18 >  0.50\n",
            "|   |   |   |   |   |   |   |   |   |--- class: acc\n",
            "|   |   |   |   |   |--- feature_2 >  0.50\n",
            "|   |   |   |   |   |   |--- feature_5 <= 0.50\n",
            "|   |   |   |   |   |   |   |--- feature_20 <= 0.50\n",
            "|   |   |   |   |   |   |   |   |--- feature_4 <= 0.50\n",
            "|   |   |   |   |   |   |   |   |   |--- feature_8 <= 0.50\n",
            "|   |   |   |   |   |   |   |   |   |   |--- feature_13 <= 0.50\n",
            "|   |   |   |   |   |   |   |   |   |   |   |--- class: vgood\n",
            "|   |   |   |   |   |   |   |   |   |   |--- feature_13 >  0.50\n",
            "|   |   |   |   |   |   |   |   |   |   |   |--- truncated branch of depth 3\n",
            "|   |   |   |   |   |   |   |   |   |--- feature_8 >  0.50\n",
            "|   |   |   |   |   |   |   |   |   |   |--- class: acc\n",
            "|   |   |   |   |   |   |   |   |--- feature_4 >  0.50\n",
            "|   |   |   |   |   |   |   |   |   |--- class: acc\n",
            "|   |   |   |   |   |   |   |--- feature_20 >  0.50\n",
            "|   |   |   |   |   |   |   |   |--- class: acc\n",
            "|   |   |   |   |   |   |--- feature_5 >  0.50\n",
            "|   |   |   |   |   |   |   |--- feature_20 <= 0.50\n",
            "|   |   |   |   |   |   |   |   |--- feature_8 <= 0.50\n",
            "|   |   |   |   |   |   |   |   |   |--- class: vgood\n",
            "|   |   |   |   |   |   |   |   |--- feature_8 >  0.50\n",
            "|   |   |   |   |   |   |   |   |   |--- feature_16 <= 0.50\n",
            "|   |   |   |   |   |   |   |   |   |   |--- class: vgood\n",
            "|   |   |   |   |   |   |   |   |   |--- feature_16 >  0.50\n",
            "|   |   |   |   |   |   |   |   |   |   |--- class: good\n",
            "|   |   |   |   |   |   |   |--- feature_20 >  0.50\n",
            "|   |   |   |   |   |   |   |   |--- feature_8 <= 0.50\n",
            "|   |   |   |   |   |   |   |   |   |--- class: good\n",
            "|   |   |   |   |   |   |   |   |--- feature_8 >  0.50\n",
            "|   |   |   |   |   |   |   |   |   |--- feature_16 <= 0.50\n",
            "|   |   |   |   |   |   |   |   |   |   |--- class: good\n",
            "|   |   |   |   |   |   |   |   |   |--- feature_16 >  0.50\n",
            "|   |   |   |   |   |   |   |   |   |   |--- class: acc\n",
            "|   |   |   |   |--- feature_17 >  0.50\n",
            "|   |   |   |   |   |--- feature_20 <= 0.50\n",
            "|   |   |   |   |   |   |--- feature_8 <= 0.50\n",
            "|   |   |   |   |   |   |   |--- feature_3 <= 0.50\n",
            "|   |   |   |   |   |   |   |   |--- feature_5 <= 0.50\n",
            "|   |   |   |   |   |   |   |   |   |--- class: acc\n",
            "|   |   |   |   |   |   |   |   |--- feature_5 >  0.50\n",
            "|   |   |   |   |   |   |   |   |   |--- feature_0 <= 0.50\n",
            "|   |   |   |   |   |   |   |   |   |   |--- class: good\n",
            "|   |   |   |   |   |   |   |   |   |--- feature_0 >  0.50\n",
            "|   |   |   |   |   |   |   |   |   |   |--- class: acc\n",
            "|   |   |   |   |   |   |   |--- feature_3 >  0.50\n",
            "|   |   |   |   |   |   |   |   |--- feature_4 <= 0.50\n",
            "|   |   |   |   |   |   |   |   |   |--- class: acc\n",
            "|   |   |   |   |   |   |   |   |--- feature_4 >  0.50\n",
            "|   |   |   |   |   |   |   |   |   |--- class: unacc\n",
            "|   |   |   |   |   |   |--- feature_8 >  0.50\n",
            "|   |   |   |   |   |   |   |--- feature_13 <= 0.50\n",
            "|   |   |   |   |   |   |   |   |--- class: unacc\n",
            "|   |   |   |   |   |   |   |--- feature_13 >  0.50\n",
            "|   |   |   |   |   |   |   |   |--- feature_4 <= 0.50\n",
            "|   |   |   |   |   |   |   |   |   |--- feature_2 <= 0.50\n",
            "|   |   |   |   |   |   |   |   |   |   |--- class: acc\n",
            "|   |   |   |   |   |   |   |   |   |--- feature_2 >  0.50\n",
            "|   |   |   |   |   |   |   |   |   |   |--- feature_6 <= 0.50\n",
            "|   |   |   |   |   |   |   |   |   |   |   |--- class: good\n",
            "|   |   |   |   |   |   |   |   |   |   |--- feature_6 >  0.50\n",
            "|   |   |   |   |   |   |   |   |   |   |   |--- class: acc\n",
            "|   |   |   |   |   |   |   |   |--- feature_4 >  0.50\n",
            "|   |   |   |   |   |   |   |   |   |--- feature_0 <= 0.50\n",
            "|   |   |   |   |   |   |   |   |   |   |--- class: unacc\n",
            "|   |   |   |   |   |   |   |   |   |--- feature_0 >  0.50\n",
            "|   |   |   |   |   |   |   |   |   |   |--- class: acc\n",
            "|   |   |   |   |   |--- feature_20 >  0.50\n",
            "|   |   |   |   |   |   |--- feature_2 <= 0.50\n",
            "|   |   |   |   |   |   |   |--- class: unacc\n",
            "|   |   |   |   |   |   |--- feature_2 >  0.50\n",
            "|   |   |   |   |   |   |   |--- feature_4 <= 0.50\n",
            "|   |   |   |   |   |   |   |   |--- feature_8 <= 0.50\n",
            "|   |   |   |   |   |   |   |   |   |--- class: acc\n",
            "|   |   |   |   |   |   |   |   |--- feature_8 >  0.50\n",
            "|   |   |   |   |   |   |   |   |   |--- feature_13 <= 0.50\n",
            "|   |   |   |   |   |   |   |   |   |   |--- class: unacc\n",
            "|   |   |   |   |   |   |   |   |   |--- feature_13 >  0.50\n",
            "|   |   |   |   |   |   |   |   |   |   |--- class: acc\n",
            "|   |   |   |   |   |   |   |--- feature_4 >  0.50\n",
            "|   |   |   |   |   |   |   |   |--- class: unacc\n",
            "|   |   |   |--- feature_1 >  0.50\n",
            "|   |   |   |   |--- feature_18 <= 0.50\n",
            "|   |   |   |   |   |--- feature_4 <= 0.50\n",
            "|   |   |   |   |   |   |--- feature_17 <= 0.50\n",
            "|   |   |   |   |   |   |   |--- feature_8 <= 0.50\n",
            "|   |   |   |   |   |   |   |   |--- feature_9 <= 0.50\n",
            "|   |   |   |   |   |   |   |   |   |--- class: good\n",
            "|   |   |   |   |   |   |   |   |--- feature_9 >  0.50\n",
            "|   |   |   |   |   |   |   |   |   |--- feature_16 <= 0.50\n",
            "|   |   |   |   |   |   |   |   |   |   |--- class: good\n",
            "|   |   |   |   |   |   |   |   |   |--- feature_16 >  0.50\n",
            "|   |   |   |   |   |   |   |   |   |   |--- feature_6 <= 0.50\n",
            "|   |   |   |   |   |   |   |   |   |   |   |--- class: acc\n",
            "|   |   |   |   |   |   |   |   |   |   |--- feature_6 >  0.50\n",
            "|   |   |   |   |   |   |   |   |   |   |   |--- class: good\n",
            "|   |   |   |   |   |   |   |--- feature_8 >  0.50\n",
            "|   |   |   |   |   |   |   |   |--- feature_15 <= 0.50\n",
            "|   |   |   |   |   |   |   |   |   |--- class: acc\n",
            "|   |   |   |   |   |   |   |   |--- feature_15 >  0.50\n",
            "|   |   |   |   |   |   |   |   |   |--- class: good\n",
            "|   |   |   |   |   |   |--- feature_17 >  0.50\n",
            "|   |   |   |   |   |   |   |--- feature_8 <= 0.50\n",
            "|   |   |   |   |   |   |   |   |--- class: acc\n",
            "|   |   |   |   |   |   |   |--- feature_8 >  0.50\n",
            "|   |   |   |   |   |   |   |   |--- feature_14 <= 0.50\n",
            "|   |   |   |   |   |   |   |   |   |--- class: acc\n",
            "|   |   |   |   |   |   |   |   |--- feature_14 >  0.50\n",
            "|   |   |   |   |   |   |   |   |   |--- class: unacc\n",
            "|   |   |   |   |   |--- feature_4 >  0.50\n",
            "|   |   |   |   |   |   |--- feature_8 <= 0.50\n",
            "|   |   |   |   |   |   |   |--- class: acc\n",
            "|   |   |   |   |   |   |--- feature_8 >  0.50\n",
            "|   |   |   |   |   |   |   |--- feature_16 <= 0.50\n",
            "|   |   |   |   |   |   |   |   |--- feature_13 <= 0.50\n",
            "|   |   |   |   |   |   |   |   |   |--- class: unacc\n",
            "|   |   |   |   |   |   |   |   |--- feature_13 >  0.50\n",
            "|   |   |   |   |   |   |   |   |   |--- class: acc\n",
            "|   |   |   |   |   |   |   |--- feature_16 >  0.50\n",
            "|   |   |   |   |   |   |   |   |--- class: acc\n",
            "|   |   |   |   |--- feature_18 >  0.50\n",
            "|   |   |   |   |   |--- feature_17 <= 0.50\n",
            "|   |   |   |   |   |   |--- feature_8 <= 0.50\n",
            "|   |   |   |   |   |   |   |--- class: vgood\n",
            "|   |   |   |   |   |   |--- feature_8 >  0.50\n",
            "|   |   |   |   |   |   |   |--- feature_15 <= 0.50\n",
            "|   |   |   |   |   |   |   |   |--- feature_4 <= 0.50\n",
            "|   |   |   |   |   |   |   |   |   |--- class: good\n",
            "|   |   |   |   |   |   |   |   |--- feature_4 >  0.50\n",
            "|   |   |   |   |   |   |   |   |   |--- class: acc\n",
            "|   |   |   |   |   |   |   |--- feature_15 >  0.50\n",
            "|   |   |   |   |   |   |   |   |--- class: vgood\n",
            "|   |   |   |   |   |--- feature_17 >  0.50\n",
            "|   |   |   |   |   |   |--- feature_4 <= 0.50\n",
            "|   |   |   |   |   |   |   |--- feature_8 <= 0.50\n",
            "|   |   |   |   |   |   |   |   |--- class: good\n",
            "|   |   |   |   |   |   |   |--- feature_8 >  0.50\n",
            "|   |   |   |   |   |   |   |   |--- feature_14 <= 0.50\n",
            "|   |   |   |   |   |   |   |   |   |--- class: good\n",
            "|   |   |   |   |   |   |   |   |--- feature_14 >  0.50\n",
            "|   |   |   |   |   |   |   |   |   |--- class: unacc\n",
            "|   |   |   |   |   |   |--- feature_4 >  0.50\n",
            "|   |   |   |   |   |   |   |--- class: acc\n",
            "|   |   |--- feature_7 >  0.50\n",
            "|   |   |   |--- feature_2 <= 0.50\n",
            "|   |   |   |   |--- feature_1 <= 0.50\n",
            "|   |   |   |   |   |--- class: unacc\n",
            "|   |   |   |   |--- feature_1 >  0.50\n",
            "|   |   |   |   |   |--- feature_20 <= 0.50\n",
            "|   |   |   |   |   |   |--- class: acc\n",
            "|   |   |   |   |   |--- feature_20 >  0.50\n",
            "|   |   |   |   |   |   |--- feature_17 <= 0.50\n",
            "|   |   |   |   |   |   |   |--- feature_16 <= 0.50\n",
            "|   |   |   |   |   |   |   |   |--- class: acc\n",
            "|   |   |   |   |   |   |   |--- feature_16 >  0.50\n",
            "|   |   |   |   |   |   |   |   |--- feature_8 <= 0.50\n",
            "|   |   |   |   |   |   |   |   |   |--- feature_9 <= 0.50\n",
            "|   |   |   |   |   |   |   |   |   |   |--- class: acc\n",
            "|   |   |   |   |   |   |   |   |   |--- feature_9 >  0.50\n",
            "|   |   |   |   |   |   |   |   |   |   |--- feature_14 <= 0.50\n",
            "|   |   |   |   |   |   |   |   |   |   |   |--- class: unacc\n",
            "|   |   |   |   |   |   |   |   |   |   |--- feature_14 >  0.50\n",
            "|   |   |   |   |   |   |   |   |   |   |   |--- class: acc\n",
            "|   |   |   |   |   |   |   |   |--- feature_8 >  0.50\n",
            "|   |   |   |   |   |   |   |   |   |--- class: unacc\n",
            "|   |   |   |   |   |   |--- feature_17 >  0.50\n",
            "|   |   |   |   |   |   |   |--- class: unacc\n",
            "|   |   |   |--- feature_2 >  0.50\n",
            "|   |   |   |   |--- feature_17 <= 0.50\n",
            "|   |   |   |   |   |--- feature_8 <= 0.50\n",
            "|   |   |   |   |   |   |--- feature_9 <= 0.50\n",
            "|   |   |   |   |   |   |   |--- class: acc\n",
            "|   |   |   |   |   |   |--- feature_9 >  0.50\n",
            "|   |   |   |   |   |   |   |--- feature_16 <= 0.50\n",
            "|   |   |   |   |   |   |   |   |--- class: acc\n",
            "|   |   |   |   |   |   |   |--- feature_16 >  0.50\n",
            "|   |   |   |   |   |   |   |   |--- feature_20 <= 0.50\n",
            "|   |   |   |   |   |   |   |   |   |--- class: acc\n",
            "|   |   |   |   |   |   |   |   |--- feature_20 >  0.50\n",
            "|   |   |   |   |   |   |   |   |   |--- feature_13 <= 0.50\n",
            "|   |   |   |   |   |   |   |   |   |   |--- class: acc\n",
            "|   |   |   |   |   |   |   |   |   |--- feature_13 >  0.50\n",
            "|   |   |   |   |   |   |   |   |   |   |--- class: unacc\n",
            "|   |   |   |   |   |--- feature_8 >  0.50\n",
            "|   |   |   |   |   |   |--- feature_16 <= 0.50\n",
            "|   |   |   |   |   |   |   |--- class: acc\n",
            "|   |   |   |   |   |   |--- feature_16 >  0.50\n",
            "|   |   |   |   |   |   |   |--- class: unacc\n",
            "|   |   |   |   |--- feature_17 >  0.50\n",
            "|   |   |   |   |   |--- feature_18 <= 0.50\n",
            "|   |   |   |   |   |   |--- class: unacc\n",
            "|   |   |   |   |   |--- feature_18 >  0.50\n",
            "|   |   |   |   |   |   |--- feature_8 <= 0.50\n",
            "|   |   |   |   |   |   |   |--- class: acc\n",
            "|   |   |   |   |   |   |--- feature_8 >  0.50\n",
            "|   |   |   |   |   |   |   |--- feature_13 <= 0.50\n",
            "|   |   |   |   |   |   |   |   |--- class: unacc\n",
            "|   |   |   |   |   |   |   |--- feature_13 >  0.50\n",
            "|   |   |   |   |   |   |   |   |--- class: acc\n",
            "|   |--- feature_19 >  0.50\n",
            "|   |   |--- class: unacc\n",
            "|--- feature_12 >  0.50\n",
            "|   |--- class: unacc\n",
            "\n"
          ]
        },
        {
          "output_type": "display_data",
          "data": {
            "text/plain": [
              "<Figure size 640x480 with 1 Axes>"
            ],
            "image/png": "[encoded data removed]"
          },
          "metadata": {}
        }
      ]
    },
    {
      "cell_type": "code",
      "source": [
        "model_DT_gscv = tree.DecisionTreeClassifier()\n",
        "params_grid = {\n",
        "    \"max_depth\": [None, 2, 4, 6],\n",
        "    \"max_leaf_nodes\": [None, 1, 2],\n",
        "    \"min_samples_leaf\": [1, 2, 3]\n",
        "    }\n",
        "\n",
        "grid_search_DTC = GridSearchCV(estimator=model_DT_gscv,\n",
        "                                  param_grid=params_grid)"
      ],
      "metadata": {
        "id": "phOnAOSyA47p"
      },
      "execution_count": null,
      "outputs": []
    },
    {
      "cell_type": "code",
      "source": [
        "grid_search_DTC.fit(np.array(X_train), np.array(Y_train))\n",
        "preds_train = grid_search_DTC.best_estimator_.predict(np.array(X_test))"
      ],
      "metadata": {
        "id": "wpLW7M7qA7Ok"
      },
      "execution_count": null,
      "outputs": []
    },
    {
      "cell_type": "code",
      "source": [
        "print(classification_report(Y_test, preds_train))"
      ],
      "metadata": {
        "colab": {
          "base_uri": "https://localhost:8080/"
        },
        "id": "7hAHIIs3Rwbi",
        "outputId": "381716e0-ba54-44c7-bd49-86296559de93"
      },
      "execution_count": null,
      "outputs": [
        {
          "output_type": "stream",
          "name": "stdout",
          "text": [
            "              precision    recall  f1-score   support\n",
            "\n",
            "         acc       0.92      0.92      0.92        98\n",
            "        good       0.94      0.85      0.89        20\n",
            "       unacc       0.98      0.98      0.98       300\n",
            "       vgood       0.75      0.86      0.80        14\n",
            "\n",
            "    accuracy                           0.96       432\n",
            "   macro avg       0.90      0.90      0.90       432\n",
            "weighted avg       0.96      0.96      0.96       432\n",
            "\n"
          ]
        }
      ]
    },
    {
      "cell_type": "code",
      "source": [
        "grid_search_DTC.best_params_"
      ],
      "metadata": {
        "colab": {
          "base_uri": "https://localhost:8080/"
        },
        "id": "uFFaHUpIA-Eg",
        "outputId": "1bb24cf2-42ce-43f6-b937-7af1fc287905"
      },
      "execution_count": null,
      "outputs": [
        {
          "output_type": "execute_result",
          "data": {
            "text/plain": [
              "{'max_depth': None, 'max_leaf_nodes': None, 'min_samples_leaf': 1}"
            ]
          },
          "metadata": {},
          "execution_count": 73
        }
      ]
    },
    {
      "cell_type": "code",
      "source": [
        "print(tree.export_text(grid_search_DTC.best_estimator_))"
      ],
      "metadata": {
        "colab": {
          "base_uri": "https://localhost:8080/"
        },
        "id": "syIlLu64BE8e",
        "outputId": "863529e0-9571-4965-b5d0-f5eae7d0a54d"
      },
      "execution_count": null,
      "outputs": [
        {
          "output_type": "stream",
          "name": "stdout",
          "text": [
            "|--- feature_12 <= 0.50\n",
            "|   |--- feature_19 <= 0.50\n",
            "|   |   |--- feature_7 <= 0.50\n",
            "|   |   |   |--- feature_1 <= 0.50\n",
            "|   |   |   |   |--- feature_17 <= 0.50\n",
            "|   |   |   |   |   |--- feature_2 <= 0.50\n",
            "|   |   |   |   |   |   |--- feature_4 <= 0.50\n",
            "|   |   |   |   |   |   |   |--- feature_8 <= 0.50\n",
            "|   |   |   |   |   |   |   |   |--- feature_9 <= 0.50\n",
            "|   |   |   |   |   |   |   |   |   |--- class: acc\n",
            "|   |   |   |   |   |   |   |   |--- feature_9 >  0.50\n",
            "|   |   |   |   |   |   |   |   |   |--- feature_13 <= 0.50\n",
            "|   |   |   |   |   |   |   |   |   |   |--- class: acc\n",
            "|   |   |   |   |   |   |   |   |   |--- feature_13 >  0.50\n",
            "|   |   |   |   |   |   |   |   |   |   |--- feature_20 <= 0.50\n",
            "|   |   |   |   |   |   |   |   |   |   |   |--- class: acc\n",
            "|   |   |   |   |   |   |   |   |   |   |--- feature_20 >  0.50\n",
            "|   |   |   |   |   |   |   |   |   |   |   |--- truncated branch of depth 2\n",
            "|   |   |   |   |   |   |   |--- feature_8 >  0.50\n",
            "|   |   |   |   |   |   |   |   |--- feature_18 <= 0.50\n",
            "|   |   |   |   |   |   |   |   |   |--- feature_15 <= 0.50\n",
            "|   |   |   |   |   |   |   |   |   |   |--- class: unacc\n",
            "|   |   |   |   |   |   |   |   |   |--- feature_15 >  0.50\n",
            "|   |   |   |   |   |   |   |   |   |   |--- class: acc\n",
            "|   |   |   |   |   |   |   |   |--- feature_18 >  0.50\n",
            "|   |   |   |   |   |   |   |   |   |--- class: acc\n",
            "|   |   |   |   |   |   |--- feature_4 >  0.50\n",
            "|   |   |   |   |   |   |   |--- feature_0 <= 0.50\n",
            "|   |   |   |   |   |   |   |   |--- class: unacc\n",
            "|   |   |   |   |   |   |   |--- feature_0 >  0.50\n",
            "|   |   |   |   |   |   |   |   |--- feature_20 <= 0.50\n",
            "|   |   |   |   |   |   |   |   |   |--- class: acc\n",
            "|   |   |   |   |   |   |   |   |--- feature_20 >  0.50\n",
            "|   |   |   |   |   |   |   |   |   |--- feature_8 <= 0.50\n",
            "|   |   |   |   |   |   |   |   |   |   |--- feature_9 <= 0.50\n",
            "|   |   |   |   |   |   |   |   |   |   |   |--- class: acc\n",
            "|   |   |   |   |   |   |   |   |   |   |--- feature_9 >  0.50\n",
            "|   |   |   |   |   |   |   |   |   |   |   |--- truncated branch of depth 3\n",
            "|   |   |   |   |   |   |   |   |   |--- feature_8 >  0.50\n",
            "|   |   |   |   |   |   |   |   |   |   |--- feature_16 <= 0.50\n",
            "|   |   |   |   |   |   |   |   |   |   |   |--- class: acc\n",
            "|   |   |   |   |   |   |   |   |   |   |--- feature_16 >  0.50\n",
            "|   |   |   |   |   |   |   |   |   |   |   |--- class: unacc\n",
            "|   |   |   |   |   |--- feature_2 >  0.50\n",
            "|   |   |   |   |   |   |--- feature_5 <= 0.50\n",
            "|   |   |   |   |   |   |   |--- feature_18 <= 0.50\n",
            "|   |   |   |   |   |   |   |   |--- class: acc\n",
            "|   |   |   |   |   |   |   |--- feature_18 >  0.50\n",
            "|   |   |   |   |   |   |   |   |--- feature_4 <= 0.50\n",
            "|   |   |   |   |   |   |   |   |   |--- feature_8 <= 0.50\n",
            "|   |   |   |   |   |   |   |   |   |   |--- feature_16 <= 0.50\n",
            "|   |   |   |   |   |   |   |   |   |   |   |--- class: vgood\n",
            "|   |   |   |   |   |   |   |   |   |   |--- feature_16 >  0.50\n",
            "|   |   |   |   |   |   |   |   |   |   |   |--- truncated branch of depth 3\n",
            "|   |   |   |   |   |   |   |   |   |--- feature_8 >  0.50\n",
            "|   |   |   |   |   |   |   |   |   |   |--- class: acc\n",
            "|   |   |   |   |   |   |   |   |--- feature_4 >  0.50\n",
            "|   |   |   |   |   |   |   |   |   |--- class: acc\n",
            "|   |   |   |   |   |   |--- feature_5 >  0.50\n",
            "|   |   |   |   |   |   |   |--- feature_20 <= 0.50\n",
            "|   |   |   |   |   |   |   |   |--- feature_8 <= 0.50\n",
            "|   |   |   |   |   |   |   |   |   |--- class: vgood\n",
            "|   |   |   |   |   |   |   |   |--- feature_8 >  0.50\n",
            "|   |   |   |   |   |   |   |   |   |--- feature_16 <= 0.50\n",
            "|   |   |   |   |   |   |   |   |   |   |--- class: vgood\n",
            "|   |   |   |   |   |   |   |   |   |--- feature_16 >  0.50\n",
            "|   |   |   |   |   |   |   |   |   |   |--- class: good\n",
            "|   |   |   |   |   |   |   |--- feature_20 >  0.50\n",
            "|   |   |   |   |   |   |   |   |--- feature_8 <= 0.50\n",
            "|   |   |   |   |   |   |   |   |   |--- class: good\n",
            "|   |   |   |   |   |   |   |   |--- feature_8 >  0.50\n",
            "|   |   |   |   |   |   |   |   |   |--- feature_16 <= 0.50\n",
            "|   |   |   |   |   |   |   |   |   |   |--- class: good\n",
            "|   |   |   |   |   |   |   |   |   |--- feature_16 >  0.50\n",
            "|   |   |   |   |   |   |   |   |   |   |--- class: acc\n",
            "|   |   |   |   |--- feature_17 >  0.50\n",
            "|   |   |   |   |   |--- feature_20 <= 0.50\n",
            "|   |   |   |   |   |   |--- feature_8 <= 0.50\n",
            "|   |   |   |   |   |   |   |--- feature_3 <= 0.50\n",
            "|   |   |   |   |   |   |   |   |--- feature_5 <= 0.50\n",
            "|   |   |   |   |   |   |   |   |   |--- class: acc\n",
            "|   |   |   |   |   |   |   |   |--- feature_5 >  0.50\n",
            "|   |   |   |   |   |   |   |   |   |--- feature_0 <= 0.50\n",
            "|   |   |   |   |   |   |   |   |   |   |--- class: good\n",
            "|   |   |   |   |   |   |   |   |   |--- feature_0 >  0.50\n",
            "|   |   |   |   |   |   |   |   |   |   |--- class: acc\n",
            "|   |   |   |   |   |   |   |--- feature_3 >  0.50\n",
            "|   |   |   |   |   |   |   |   |--- feature_4 <= 0.50\n",
            "|   |   |   |   |   |   |   |   |   |--- class: acc\n",
            "|   |   |   |   |   |   |   |   |--- feature_4 >  0.50\n",
            "|   |   |   |   |   |   |   |   |   |--- class: unacc\n",
            "|   |   |   |   |   |   |--- feature_8 >  0.50\n",
            "|   |   |   |   |   |   |   |--- feature_13 <= 0.50\n",
            "|   |   |   |   |   |   |   |   |--- class: unacc\n",
            "|   |   |   |   |   |   |   |--- feature_13 >  0.50\n",
            "|   |   |   |   |   |   |   |   |--- feature_5 <= 0.50\n",
            "|   |   |   |   |   |   |   |   |   |--- feature_3 <= 0.50\n",
            "|   |   |   |   |   |   |   |   |   |   |--- class: acc\n",
            "|   |   |   |   |   |   |   |   |   |--- feature_3 >  0.50\n",
            "|   |   |   |   |   |   |   |   |   |   |--- class: unacc\n",
            "|   |   |   |   |   |   |   |   |--- feature_5 >  0.50\n",
            "|   |   |   |   |   |   |   |   |   |--- feature_3 <= 0.50\n",
            "|   |   |   |   |   |   |   |   |   |   |--- class: good\n",
            "|   |   |   |   |   |   |   |   |   |--- feature_3 >  0.50\n",
            "|   |   |   |   |   |   |   |   |   |   |--- class: acc\n",
            "|   |   |   |   |   |--- feature_20 >  0.50\n",
            "|   |   |   |   |   |   |--- feature_2 <= 0.50\n",
            "|   |   |   |   |   |   |   |--- class: unacc\n",
            "|   |   |   |   |   |   |--- feature_2 >  0.50\n",
            "|   |   |   |   |   |   |   |--- feature_4 <= 0.50\n",
            "|   |   |   |   |   |   |   |   |--- feature_8 <= 0.50\n",
            "|   |   |   |   |   |   |   |   |   |--- class: acc\n",
            "|   |   |   |   |   |   |   |   |--- feature_8 >  0.50\n",
            "|   |   |   |   |   |   |   |   |   |--- feature_14 <= 0.50\n",
            "|   |   |   |   |   |   |   |   |   |   |--- class: acc\n",
            "|   |   |   |   |   |   |   |   |   |--- feature_14 >  0.50\n",
            "|   |   |   |   |   |   |   |   |   |   |--- class: unacc\n",
            "|   |   |   |   |   |   |   |--- feature_4 >  0.50\n",
            "|   |   |   |   |   |   |   |   |--- class: unacc\n",
            "|   |   |   |--- feature_1 >  0.50\n",
            "|   |   |   |   |--- feature_18 <= 0.50\n",
            "|   |   |   |   |   |--- feature_4 <= 0.50\n",
            "|   |   |   |   |   |   |--- feature_17 <= 0.50\n",
            "|   |   |   |   |   |   |   |--- feature_8 <= 0.50\n",
            "|   |   |   |   |   |   |   |   |--- feature_9 <= 0.50\n",
            "|   |   |   |   |   |   |   |   |   |--- class: good\n",
            "|   |   |   |   |   |   |   |   |--- feature_9 >  0.50\n",
            "|   |   |   |   |   |   |   |   |   |--- feature_16 <= 0.50\n",
            "|   |   |   |   |   |   |   |   |   |   |--- class: good\n",
            "|   |   |   |   |   |   |   |   |   |--- feature_16 >  0.50\n",
            "|   |   |   |   |   |   |   |   |   |   |--- feature_6 <= 0.50\n",
            "|   |   |   |   |   |   |   |   |   |   |   |--- class: acc\n",
            "|   |   |   |   |   |   |   |   |   |   |--- feature_6 >  0.50\n",
            "|   |   |   |   |   |   |   |   |   |   |   |--- class: good\n",
            "|   |   |   |   |   |   |   |--- feature_8 >  0.50\n",
            "|   |   |   |   |   |   |   |   |--- feature_16 <= 0.50\n",
            "|   |   |   |   |   |   |   |   |   |--- class: good\n",
            "|   |   |   |   |   |   |   |   |--- feature_16 >  0.50\n",
            "|   |   |   |   |   |   |   |   |   |--- class: acc\n",
            "|   |   |   |   |   |   |--- feature_17 >  0.50\n",
            "|   |   |   |   |   |   |   |--- feature_8 <= 0.50\n",
            "|   |   |   |   |   |   |   |   |--- class: acc\n",
            "|   |   |   |   |   |   |   |--- feature_8 >  0.50\n",
            "|   |   |   |   |   |   |   |   |--- feature_14 <= 0.50\n",
            "|   |   |   |   |   |   |   |   |   |--- class: acc\n",
            "|   |   |   |   |   |   |   |   |--- feature_14 >  0.50\n",
            "|   |   |   |   |   |   |   |   |   |--- class: unacc\n",
            "|   |   |   |   |   |--- feature_4 >  0.50\n",
            "|   |   |   |   |   |   |--- feature_8 <= 0.50\n",
            "|   |   |   |   |   |   |   |--- class: acc\n",
            "|   |   |   |   |   |   |--- feature_8 >  0.50\n",
            "|   |   |   |   |   |   |   |--- feature_14 <= 0.50\n",
            "|   |   |   |   |   |   |   |   |--- class: acc\n",
            "|   |   |   |   |   |   |   |--- feature_14 >  0.50\n",
            "|   |   |   |   |   |   |   |   |--- feature_16 <= 0.50\n",
            "|   |   |   |   |   |   |   |   |   |--- class: unacc\n",
            "|   |   |   |   |   |   |   |   |--- feature_16 >  0.50\n",
            "|   |   |   |   |   |   |   |   |   |--- class: acc\n",
            "|   |   |   |   |--- feature_18 >  0.50\n",
            "|   |   |   |   |   |--- feature_17 <= 0.50\n",
            "|   |   |   |   |   |   |--- feature_8 <= 0.50\n",
            "|   |   |   |   |   |   |   |--- class: vgood\n",
            "|   |   |   |   |   |   |--- feature_8 >  0.50\n",
            "|   |   |   |   |   |   |   |--- feature_16 <= 0.50\n",
            "|   |   |   |   |   |   |   |   |--- class: vgood\n",
            "|   |   |   |   |   |   |   |--- feature_16 >  0.50\n",
            "|   |   |   |   |   |   |   |   |--- feature_4 <= 0.50\n",
            "|   |   |   |   |   |   |   |   |   |--- class: good\n",
            "|   |   |   |   |   |   |   |   |--- feature_4 >  0.50\n",
            "|   |   |   |   |   |   |   |   |   |--- class: acc\n",
            "|   |   |   |   |   |--- feature_17 >  0.50\n",
            "|   |   |   |   |   |   |--- feature_4 <= 0.50\n",
            "|   |   |   |   |   |   |   |--- feature_8 <= 0.50\n",
            "|   |   |   |   |   |   |   |   |--- class: good\n",
            "|   |   |   |   |   |   |   |--- feature_8 >  0.50\n",
            "|   |   |   |   |   |   |   |   |--- feature_13 <= 0.50\n",
            "|   |   |   |   |   |   |   |   |   |--- class: unacc\n",
            "|   |   |   |   |   |   |   |   |--- feature_13 >  0.50\n",
            "|   |   |   |   |   |   |   |   |   |--- class: good\n",
            "|   |   |   |   |   |   |--- feature_4 >  0.50\n",
            "|   |   |   |   |   |   |   |--- class: acc\n",
            "|   |   |--- feature_7 >  0.50\n",
            "|   |   |   |--- feature_2 <= 0.50\n",
            "|   |   |   |   |--- feature_1 <= 0.50\n",
            "|   |   |   |   |   |--- class: unacc\n",
            "|   |   |   |   |--- feature_1 >  0.50\n",
            "|   |   |   |   |   |--- feature_20 <= 0.50\n",
            "|   |   |   |   |   |   |--- class: acc\n",
            "|   |   |   |   |   |--- feature_20 >  0.50\n",
            "|   |   |   |   |   |   |--- feature_17 <= 0.50\n",
            "|   |   |   |   |   |   |   |--- feature_16 <= 0.50\n",
            "|   |   |   |   |   |   |   |   |--- class: acc\n",
            "|   |   |   |   |   |   |   |--- feature_16 >  0.50\n",
            "|   |   |   |   |   |   |   |   |--- feature_8 <= 0.50\n",
            "|   |   |   |   |   |   |   |   |   |--- feature_9 <= 0.50\n",
            "|   |   |   |   |   |   |   |   |   |   |--- class: acc\n",
            "|   |   |   |   |   |   |   |   |   |--- feature_9 >  0.50\n",
            "|   |   |   |   |   |   |   |   |   |   |--- feature_13 <= 0.50\n",
            "|   |   |   |   |   |   |   |   |   |   |   |--- class: acc\n",
            "|   |   |   |   |   |   |   |   |   |   |--- feature_13 >  0.50\n",
            "|   |   |   |   |   |   |   |   |   |   |   |--- class: unacc\n",
            "|   |   |   |   |   |   |   |   |--- feature_8 >  0.50\n",
            "|   |   |   |   |   |   |   |   |   |--- class: unacc\n",
            "|   |   |   |   |   |   |--- feature_17 >  0.50\n",
            "|   |   |   |   |   |   |   |--- class: unacc\n",
            "|   |   |   |--- feature_2 >  0.50\n",
            "|   |   |   |   |--- feature_17 <= 0.50\n",
            "|   |   |   |   |   |--- feature_8 <= 0.50\n",
            "|   |   |   |   |   |   |--- feature_9 <= 0.50\n",
            "|   |   |   |   |   |   |   |--- class: acc\n",
            "|   |   |   |   |   |   |--- feature_9 >  0.50\n",
            "|   |   |   |   |   |   |   |--- feature_16 <= 0.50\n",
            "|   |   |   |   |   |   |   |   |--- class: acc\n",
            "|   |   |   |   |   |   |   |--- feature_16 >  0.50\n",
            "|   |   |   |   |   |   |   |   |--- feature_14 <= 0.50\n",
            "|   |   |   |   |   |   |   |   |   |--- feature_18 <= 0.50\n",
            "|   |   |   |   |   |   |   |   |   |   |--- class: unacc\n",
            "|   |   |   |   |   |   |   |   |   |--- feature_18 >  0.50\n",
            "|   |   |   |   |   |   |   |   |   |   |--- class: acc\n",
            "|   |   |   |   |   |   |   |   |--- feature_14 >  0.50\n",
            "|   |   |   |   |   |   |   |   |   |--- class: acc\n",
            "|   |   |   |   |   |--- feature_8 >  0.50\n",
            "|   |   |   |   |   |   |--- feature_16 <= 0.50\n",
            "|   |   |   |   |   |   |   |--- class: acc\n",
            "|   |   |   |   |   |   |--- feature_16 >  0.50\n",
            "|   |   |   |   |   |   |   |--- class: unacc\n",
            "|   |   |   |   |--- feature_17 >  0.50\n",
            "|   |   |   |   |   |--- feature_18 <= 0.50\n",
            "|   |   |   |   |   |   |--- class: unacc\n",
            "|   |   |   |   |   |--- feature_18 >  0.50\n",
            "|   |   |   |   |   |   |--- feature_13 <= 0.50\n",
            "|   |   |   |   |   |   |   |--- feature_11 <= 0.50\n",
            "|   |   |   |   |   |   |   |   |--- class: unacc\n",
            "|   |   |   |   |   |   |   |--- feature_11 >  0.50\n",
            "|   |   |   |   |   |   |   |   |--- class: acc\n",
            "|   |   |   |   |   |   |--- feature_13 >  0.50\n",
            "|   |   |   |   |   |   |   |--- class: acc\n",
            "|   |--- feature_19 >  0.50\n",
            "|   |   |--- class: unacc\n",
            "|--- feature_12 >  0.50\n",
            "|   |--- class: unacc\n",
            "\n"
          ]
        }
      ]
    },
    {
      "cell_type": "markdown",
      "source": [
        "# Стекинг"
      ],
      "metadata": {
        "id": "PwlyTL9D_Iwd"
      }
    },
    {
      "cell_type": "code",
      "source": [
        "clf1 = LogisticRegression()\n",
        "clf2 = KNeighborsClassifier()\n",
        "clf3 = SVC()\n",
        "\n",
        "model_STC = ensemble.StackingClassifier(estimators=[('lr', clf1), ('knn', clf2), ('svc', clf3)])\n",
        "model_STC.fit(X_train, Y_train)\n",
        "preds_STC = model_STC.predict(X_test)\n",
        "print(confusion_matrix(Y_test, preds_STC))"
      ],
      "metadata": {
        "colab": {
          "base_uri": "https://localhost:8080/"
        },
        "id": "vWJWrwnc_FSY",
        "outputId": "47836abd-a165-4c24-9eef-4cbc9c9feb19"
      },
      "execution_count": null,
      "outputs": [
        {
          "output_type": "stream",
          "name": "stdout",
          "text": [
            "[[ 97   1   0   0]\n",
            " [  0  15   0   5]\n",
            " [ 10   1 289   0]\n",
            " [  0   0   0  14]]\n"
          ]
        }
      ]
    },
    {
      "cell_type": "code",
      "source": [
        "print(classification_report(Y_test, preds_STC))"
      ],
      "metadata": {
        "id": "pJo6xskY_WnJ",
        "colab": {
          "base_uri": "https://localhost:8080/"
        },
        "outputId": "ce5a252f-50c5-4bee-873a-447f3bef0eed"
      },
      "execution_count": null,
      "outputs": [
        {
          "output_type": "stream",
          "name": "stdout",
          "text": [
            "              precision    recall  f1-score   support\n",
            "\n",
            "         acc       0.91      0.99      0.95        98\n",
            "        good       0.88      0.75      0.81        20\n",
            "       unacc       1.00      0.96      0.98       300\n",
            "       vgood       0.74      1.00      0.85        14\n",
            "\n",
            "    accuracy                           0.96       432\n",
            "   macro avg       0.88      0.93      0.90       432\n",
            "weighted avg       0.96      0.96      0.96       432\n",
            "\n"
          ]
        }
      ]
    },
    {
      "cell_type": "markdown",
      "source": [
        "# Бэггинг"
      ],
      "metadata": {
        "id": "KO-h4LenBtBL"
      }
    },
    {
      "cell_type": "code",
      "source": [
        "model_RFC = ensemble.RandomForestClassifier()\n",
        "model_RFC.fit(X_train, Y_train)\n",
        "preds_RFC = model_RFC.predict(X_test)\n",
        "print(confusion_matrix(Y_test, preds_RFC))"
      ],
      "metadata": {
        "id": "ld_p9mgMBt4m",
        "colab": {
          "base_uri": "https://localhost:8080/"
        },
        "outputId": "c2791445-a79a-4b97-9f00-759b77fa8523"
      },
      "execution_count": null,
      "outputs": [
        {
          "output_type": "stream",
          "name": "stdout",
          "text": [
            "[[ 94   1   2   1]\n",
            " [  2  13   0   5]\n",
            " [ 10   0 290   0]\n",
            " [  1   0   0  13]]\n"
          ]
        }
      ]
    },
    {
      "cell_type": "code",
      "source": [
        "print(classification_report(Y_test, preds_RFC))"
      ],
      "metadata": {
        "id": "p8XGjvMBBv4a",
        "colab": {
          "base_uri": "https://localhost:8080/"
        },
        "outputId": "be0676bd-4329-4bac-ee69-db51cd9b28bc"
      },
      "execution_count": null,
      "outputs": [
        {
          "output_type": "stream",
          "name": "stdout",
          "text": [
            "              precision    recall  f1-score   support\n",
            "\n",
            "         acc       0.88      0.96      0.92        98\n",
            "        good       0.93      0.65      0.76        20\n",
            "       unacc       0.99      0.97      0.98       300\n",
            "       vgood       0.68      0.93      0.79        14\n",
            "\n",
            "    accuracy                           0.95       432\n",
            "   macro avg       0.87      0.88      0.86       432\n",
            "weighted avg       0.95      0.95      0.95       432\n",
            "\n"
          ]
        }
      ]
    },
    {
      "cell_type": "code",
      "source": [
        "model_RFC.get_params()"
      ],
      "metadata": {
        "id": "tsD8U-RZBxnz",
        "colab": {
          "base_uri": "https://localhost:8080/"
        },
        "outputId": "79cca8ec-0b53-4d36-80ce-ab341ef7ab6b"
      },
      "execution_count": null,
      "outputs": [
        {
          "output_type": "execute_result",
          "data": {
            "text/plain": [
              "{'bootstrap': True,\n",
              " 'ccp_alpha': 0.0,\n",
              " 'class_weight': None,\n",
              " 'criterion': 'gini',\n",
              " 'max_depth': None,\n",
              " 'max_features': 'sqrt',\n",
              " 'max_leaf_nodes': None,\n",
              " 'max_samples': None,\n",
              " 'min_impurity_decrease': 0.0,\n",
              " 'min_samples_leaf': 1,\n",
              " 'min_samples_split': 2,\n",
              " 'min_weight_fraction_leaf': 0.0,\n",
              " 'n_estimators': 100,\n",
              " 'n_jobs': None,\n",
              " 'oob_score': False,\n",
              " 'random_state': None,\n",
              " 'verbose': 0,\n",
              " 'warm_start': False}"
            ]
          },
          "metadata": {},
          "execution_count": 79
        }
      ]
    },
    {
      "cell_type": "markdown",
      "source": [
        "# Бустинг"
      ],
      "metadata": {
        "id": "_nivAePlB1ZG"
      }
    },
    {
      "cell_type": "code",
      "source": [
        "model_GBC = ensemble.GradientBoostingClassifier()\n",
        "model_GBC.fit(X_train, Y_train)"
      ],
      "metadata": {
        "id": "URcfGBZcB18e",
        "colab": {
          "base_uri": "https://localhost:8080/",
          "height": 74
        },
        "outputId": "a6649d34-ee27-46d6-fb9b-9e8e76740d60"
      },
      "execution_count": null,
      "outputs": [
        {
          "output_type": "execute_result",
          "data": {
            "text/plain": [
              "GradientBoostingClassifier()"
            ],
            "text/html": [
              "<style>#sk-container-id-10 {color: black;background-color: white;}#sk-container-id-10 pre{padding: 0;}#sk-container-id-10 div.sk-toggleable {background-color: white;}#sk-container-id-10 label.sk-toggleable__label {cursor: pointer;display: block;width: 100%;margin-bottom: 0;padding: 0.3em;box-sizing: border-box;text-align: center;}#sk-container-id-10 label.sk-toggleable__label-arrow:before {content: \"▸\";float: left;margin-right: 0.25em;color: #696969;}#sk-container-id-10 label.sk-toggleable__label-arrow:hover:before {color: black;}#sk-container-id-10 div.sk-estimator:hover label.sk-toggleable__label-arrow:before {color: black;}#sk-container-id-10 div.sk-toggleable__content {max-height: 0;max-width: 0;overflow: hidden;text-align: left;background-color: #f0f8ff;}#sk-container-id-10 div.sk-toggleable__content pre {margin: 0.2em;color: black;border-radius: 0.25em;background-color: #f0f8ff;}#sk-container-id-10 input.sk-toggleable__control:checked~div.sk-toggleable__content {max-height: 200px;max-width: 100%;overflow: auto;}#sk-container-id-10 input.sk-toggleable__control:checked~label.sk-toggleable__label-arrow:before {content: \"▾\";}#sk-container-id-10 div.sk-estimator input.sk-toggleable__control:checked~label.sk-toggleable__label {background-color: #d4ebff;}#sk-container-id-10 div.sk-label input.sk-toggleable__control:checked~label.sk-toggleable__label {background-color: #d4ebff;}#sk-container-id-10 input.sk-hidden--visually {border: 0;clip: rect(1px 1px 1px 1px);clip: rect(1px, 1px, 1px, 1px);height: 1px;margin: -1px;overflow: hidden;padding: 0;position: absolute;width: 1px;}#sk-container-id-10 div.sk-estimator {font-family: monospace;background-color: #f0f8ff;border: 1px dotted black;border-radius: 0.25em;box-sizing: border-box;margin-bottom: 0.5em;}#sk-container-id-10 div.sk-estimator:hover {background-color: #d4ebff;}#sk-container-id-10 div.sk-parallel-item::after {content: \"\";width: 100%;border-bottom: 1px solid gray;flex-grow: 1;}#sk-container-id-10 div.sk-label:hover label.sk-toggleable__label {background-color: #d4ebff;}#sk-container-id-10 div.sk-serial::before {content: \"\";position: absolute;border-left: 1px solid gray;box-sizing: border-box;top: 0;bottom: 0;left: 50%;z-index: 0;}#sk-container-id-10 div.sk-serial {display: flex;flex-direction: column;align-items: center;background-color: white;padding-right: 0.2em;padding-left: 0.2em;position: relative;}#sk-container-id-10 div.sk-item {position: relative;z-index: 1;}#sk-container-id-10 div.sk-parallel {display: flex;align-items: stretch;justify-content: center;background-color: white;position: relative;}#sk-container-id-10 div.sk-item::before, #sk-container-id-10 div.sk-parallel-item::before {content: \"\";position: absolute;border-left: 1px solid gray;box-sizing: border-box;top: 0;bottom: 0;left: 50%;z-index: -1;}#sk-container-id-10 div.sk-parallel-item {display: flex;flex-direction: column;z-index: 1;position: relative;background-color: white;}#sk-container-id-10 div.sk-parallel-item:first-child::after {align-self: flex-end;width: 50%;}#sk-container-id-10 div.sk-parallel-item:last-child::after {align-self: flex-start;width: 50%;}#sk-container-id-10 div.sk-parallel-item:only-child::after {width: 0;}#sk-container-id-10 div.sk-dashed-wrapped {border: 1px dashed gray;margin: 0 0.4em 0.5em 0.4em;box-sizing: border-box;padding-bottom: 0.4em;background-color: white;}#sk-container-id-10 div.sk-label label {font-family: monospace;font-weight: bold;display: inline-block;line-height: 1.2em;}#sk-container-id-10 div.sk-label-container {text-align: center;}#sk-container-id-10 div.sk-container {/* jupyter's `normalize.less` sets `[hidden] { display: none; }` but bootstrap.min.css set `[hidden] { display: none !important; }` so we also need the `!important` here to be able to override the default hidden behavior on the sphinx rendered scikit-learn.org. See: https://github.com/scikit-learn/scikit-learn/issues/21755 */display: inline-block !important;position: relative;}#sk-container-id-10 div.sk-text-repr-fallback {display: none;}</style><div id=\"sk-container-id-10\" class=\"sk-top-container\"><div class=\"sk-text-repr-fallback\"><pre>GradientBoostingClassifier()</pre><b>In a Jupyter environment, please rerun this cell to show the HTML representation or trust the notebook. <br />On GitHub, the HTML representation is unable to render, please try loading this page with nbviewer.org.</b></div><div class=\"sk-container\" hidden><div class=\"sk-item\"><div class=\"sk-estimator sk-toggleable\"><input class=\"sk-toggleable__control sk-hidden--visually\" id=\"sk-estimator-id-10\" type=\"checkbox\" checked><label for=\"sk-estimator-id-10\" class=\"sk-toggleable__label sk-toggleable__label-arrow\">GradientBoostingClassifier</label><div class=\"sk-toggleable__content\"><pre>GradientBoostingClassifier()</pre></div></div></div></div></div>"
            ]
          },
          "metadata": {},
          "execution_count": 81
        }
      ]
    },
    {
      "cell_type": "code",
      "source": [
        "preds_GBC = model_GBC.predict(X_test)\n",
        "print(confusion_matrix(Y_test, preds_GBC))"
      ],
      "metadata": {
        "id": "xPiNjEdiB4Ob",
        "colab": {
          "base_uri": "https://localhost:8080/"
        },
        "outputId": "a57f9b5e-2cfb-4da5-8076-2ddf4731b74f"
      },
      "execution_count": null,
      "outputs": [
        {
          "output_type": "stream",
          "name": "stdout",
          "text": [
            "[[ 95   2   0   1]\n",
            " [  0  17   0   3]\n",
            " [  7   2 291   0]\n",
            " [  0   0   0  14]]\n"
          ]
        }
      ]
    },
    {
      "cell_type": "code",
      "source": [
        "print(classification_report(Y_test, preds_GBC))"
      ],
      "metadata": {
        "id": "p0xk4M0tB7H5",
        "colab": {
          "base_uri": "https://localhost:8080/"
        },
        "outputId": "a3d7ff6b-b17c-42bd-eccc-e9b13723f185"
      },
      "execution_count": null,
      "outputs": [
        {
          "output_type": "stream",
          "name": "stdout",
          "text": [
            "              precision    recall  f1-score   support\n",
            "\n",
            "         acc       0.93      0.97      0.95        98\n",
            "        good       0.81      0.85      0.83        20\n",
            "       unacc       1.00      0.97      0.98       300\n",
            "       vgood       0.78      1.00      0.88        14\n",
            "\n",
            "    accuracy                           0.97       432\n",
            "   macro avg       0.88      0.95      0.91       432\n",
            "weighted avg       0.97      0.97      0.97       432\n",
            "\n"
          ]
        }
      ]
    }
  ]
}